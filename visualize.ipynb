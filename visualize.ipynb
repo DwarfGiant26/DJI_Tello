{
 "cells": [
  {
   "cell_type": "code",
   "execution_count": 7,
   "metadata": {},
   "outputs": [],
   "source": [
    "import pandas as pd\n",
    "pd.set_option('display.max_rows', None)"
   ]
  },
  {
   "cell_type": "code",
   "execution_count": 2,
   "metadata": {},
   "outputs": [],
   "source": [
    "import matplotlib.pyplot as plt"
   ]
  },
  {
   "cell_type": "code",
   "execution_count": null,
   "metadata": {},
   "outputs": [],
   "source": [
    "#front\n",
    "side_fan = (113,280)"
   ]
  },
  {
   "cell_type": "code",
   "execution_count": 14,
   "metadata": {},
   "outputs": [],
   "source": [
    "df = {}\n",
    "wind_speed = 0\n",
    "parent_folder = f\"dataset/front/hover/wind_speed_{wind_speed}/none/\"\n",
    "def calculate_global():\n",
    "    for i in range(1,6):\n",
    "        csv_path = f\"{parent_folder}drone{i}.csv\"\n",
    "        df[csv_path] = pd.read_csv(csv_path)\n",
    "        \n",
    "        pad_coor = {}\n",
    "        # front\n",
    "        pad_coor['1,1'] = (0,200)\n",
    "        pad_coor['1,5'] = (300,200)\n",
    "        pad_coor['2'] = (0,150)\n",
    "        pad_coor['6'] = (300,150)\n",
    "        pad_coor['3'] = (0,100)\n",
    "        pad_coor['7'] = (300,100)\n",
    "        pad_coor['4'] = (0,50)\n",
    "        pad_coor['8'] = (300,50)\n",
    "        pad_coor['5,1'] = (0,0)\n",
    "        pad_coor['5,5'] = (300,0)\n",
    "        \n",
    "        # declare\n",
    "        df[csv_path]['global_x'] = 1\n",
    "        df[csv_path]['global_y'] = 1\n",
    "        \n",
    "        # calculate global and plot\n",
    "        for row_no in range(len(df[csv_path])):\n",
    "            pad_id = df[csv_path]['mid'][row_no]\n",
    "            rel_x = df[csv_path]['x'][row_no]\n",
    "            rel_y = df[csv_path]['y'][row_no]\n",
    "            drone_number = df[csv_path]['address'][row_no][-1]\n",
    "            if pad_id > 0:\n",
    "                if pad_id == 1 or pad_id == 5:\n",
    "                    num = 1 if int(drone_number) < 3 else 5\n",
    "                    pad_coordinate = pad_coor[f\"{num},{pad_id}\"]\n",
    "                else:\n",
    "                    pad_coordinate = pad_coor[f\"{pad_id}\"]\n",
    "                \n",
    "                global_x = pad_coordinate[0] + rel_x\n",
    "                global_y = pad_coordinate[1] + rel_y\n",
    "            else:\n",
    "                global_x = None\n",
    "                global_y = None\n",
    "        \n",
    "            df[csv_path].at[row_no,\"global_x\"] = global_x\n",
    "            df[csv_path].at[row_no,\"global_y\"] = global_y"
   ]
  },
  {
   "cell_type": "code",
   "execution_count": 4,
   "metadata": {},
   "outputs": [],
   "source": [
    "\n",
    "import matplotlib.dates as md\n",
    "\n",
    "def plot_attribute(x_attr, y_attr):\n",
    "    # if x_attr == \"timestamp\":\n",
    "    #     xfmt = md.DateFormatter('%H:%M:%S')    \n",
    "    for i in range(1,6):\n",
    "        csv_path = f\"{parent_folder}drone{i}.csv\" \n",
    "        plt.plot(df[csv_path][x_attr] if x_attr != \"global_x\" and x_attr != \"global_y\" else df[csv_path][x_attr][df[csv_path]['mid']>0],\n",
    "            df[csv_path][y_attr] if y_attr != \"global_x\" and y_attr != \"global_y\" else df[csv_path][y_attr][df[csv_path]['mid']>0])\n",
    "        plt.xlabel(x_attr)\n",
    "        plt.ylabel(y_attr)\n",
    "\n",
    "    plt.show()    "
   ]
  },
  {
   "cell_type": "code",
   "execution_count": null,
   "metadata": {},
   "outputs": [],
   "source": [
    "def add_wind_speed():\n",
    "    for data in df:\n",
    "        if wind_speed == 0:\n",
    "            speed_kph = "
   ]
  },
  {
   "cell_type": "code",
   "execution_count": 11,
   "metadata": {},
   "outputs": [],
   "source": [
    "calculate_global()"
   ]
  },
  {
   "cell_type": "code",
   "execution_count": 12,
   "metadata": {},
   "outputs": [
    {
     "data": {
      "image/png": "[encoded data removed]",
      "text/plain": [
       "<Figure size 432x288 with 1 Axes>"
      ]
     },
     "metadata": {
      "needs_background": "light"
     },
     "output_type": "display_data"
    },
    {
     "data": {
      "image/png": "[encoded data removed]",
      "text/plain": [
       "<Figure size 432x288 with 1 Axes>"
      ]
     },
     "metadata": {
      "needs_background": "light"
     },
     "output_type": "display_data"
    }
   ],
   "source": [
    "# mid,x,y,z,mpry,pitch,roll,yaw,vgx,vgy,vgz,templ,temph,tof,h,bat,baro,time,agx,agy,agz,timestamp,address\n",
    "plot_attribute('global_x','global_y')\n",
    "# plot_attribute('timestamp','mpry')\n",
    "# plot_attribute('timestamp','pitch')\n",
    "# plot_attribute('timestamp','roll')\n",
    "# plot_attribute('timestamp','yaw')\n",
    "# plot_attribute('timestamp','vgx')\n",
    "# plot_attribute('timestamp','vgy')\n",
    "# plot_attribute('timestamp','vgz')\n",
    "# plot_attribute('timestamp','templ')\n",
    "# plot_attribute('timestamp','temph')\n",
    "# plot_attribute('timestamp','tof')\n",
    "# plot_attribute('timestamp','h')\n",
    "plot_attribute('timestamp','bat')\n",
    "# plot_attribute('timestamp','baro')\n",
    "# plot_attribute('timestamp','time')\n",
    "# plot_attribute('timestamp','agx')\n",
    "# plot_attribute('timestamp','agy')\n",
    "# plot_attribute('timestamp','agz')\n"
   ]
  },
  {
   "cell_type": "code",
   "execution_count": 21,
   "metadata": {},
   "outputs": [
    {
     "name": "stdout",
     "output_type": "stream",
     "text": [
      "dataset/front/forward/wind_speed_0/none/\n"
     ]
    },
    {
     "data": {
      "image/png": "[encoded data removed]",
      "text/plain": [
       "<Figure size 432x288 with 1 Axes>"
      ]
     },
     "metadata": {
      "needs_background": "light"
     },
     "output_type": "display_data"
    },
    {
     "name": "stdout",
     "output_type": "stream",
     "text": [
      "dataset/front/forward/wind_speed_1/head_wind/\n"
     ]
    },
    {
     "data": {
      "image/png": "[encoded data removed]",
      "text/plain": [
       "<Figure size 432x288 with 1 Axes>"
      ]
     },
     "metadata": {
      "needs_background": "light"
     },
     "output_type": "display_data"
    },
    {
     "name": "stdout",
     "output_type": "stream",
     "text": [
      "dataset/front/forward/wind_speed_2/head_wind/\n"
     ]
    },
    {
     "data": {
      "image/png": "[encoded data removed]",
      "text/plain": [
       "<Figure size 432x288 with 1 Axes>"
      ]
     },
     "metadata": {
      "needs_background": "light"
     },
     "output_type": "display_data"
    }
   ],
   "source": [
    "for speed in range(3):\n",
    "    if speed == 0:\n",
    "        dir = 'none'\n",
    "    else:\n",
    "        dir = 'head_wind'\n",
    "    parent_folder = f\"dataset/front/forward/wind_speed_{speed}/{dir}/\"\n",
    "    print(parent_folder)\n",
    "    calculate_global()\n",
    "    plot_attribute('timestamp','bat')\n",
    "\n"
   ]
  },
  {
   "cell_type": "code",
   "execution_count": 102,
   "metadata": {},
   "outputs": [],
   "source": [
    "for path in df.keys():\n",
    "    new_path = path.split('.')[0] + \"_with_global.csv\"\n",
    "    df[path].to_csv(new_path,index=False)"
   ]
  },
  {
   "cell_type": "code",
   "execution_count": null,
   "metadata": {},
   "outputs": [],
   "source": [
    "# Idea\n",
    "# check which voltage is more sensitive\n",
    "# try to decrease speed\n",
    "# try to put more fan\n",
    "# try to make longer trip\n",
    "\n",
    "# result\n",
    "# no wind 10 cm/s full range -> battery drop down by 1 percentage\n",
    "# windspeed 2 -> battery drop by 0 percent\n",
    "# windspeed 3 -> battery drop by 7 percent\n",
    "# windspeed 4 -> moving away from fan\n",
    "\n",
    "# speed = 20\n",
    "# windspeed 0 -> dropping by 2 percent/ not dropping\n",
    "# windspeed 1 -> dropping by 1 percent\n",
    "# windspeed 2 -> dropping by 2 percent\n",
    "# windspeed 3 -> flying away a little bit, dropping by 4/2 percent\n",
    "# windspeed 4 -> drop by 4/3\n",
    "# windspeed 5 -> drop by 3/2/4\n",
    "# 6 -> fail can not move forward/ flying away from 6/ go down by 3 percent\n",
    "\n",
    "# speed 25\n",
    "# windspeed 6 -> drop by 1 percent\n",
    "\n",
    "# speed = 30\n",
    "# windspeed 6 -> fly away from fan\n",
    "\n",
    "# speed = 40\n",
    "\n",
    "# windspeed 7\n",
    "# speed = 100 not changing battery\n",
    "# speed = 50 not changing battery\n",
    "# speed = 25 not changing battery\n",
    "\n",
    "# windspeed 8\n",
    "# even speed = 100 still fly away."
   ]
  }
 ],
 "metadata": {
  "interpreter": {
   "hash": "916dbcbb3f70747c44a77c7bcd40155683ae19c65e1c03b4aa3499c5328201f1"
  },
  "kernelspec": {
   "display_name": "Python 3.8.10 64-bit",
   "language": "python",
   "name": "python3"
  },
  "language_info": {
   "codemirror_mode": {
    "name": "ipython",
    "version": 3
   },
   "file_extension": ".py",
   "mimetype": "text/x-python",
   "name": "python",
   "nbconvert_exporter": "python",
   "pygments_lexer": "ipython3",
   "version": "3.8.10"
  },
  "orig_nbformat": 4
 },
 "nbformat": 4,
 "nbformat_minor": 2
}
